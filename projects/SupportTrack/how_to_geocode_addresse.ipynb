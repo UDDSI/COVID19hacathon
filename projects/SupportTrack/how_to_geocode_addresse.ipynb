{
  "nbformat": 4,
  "nbformat_minor": 0,
  "metadata": {
    "colab": {
      "name": "how to geocode addresse",
      "provenance": [],
      "collapsed_sections": [],
      "authorship_tag": "ABX9TyObOGkJxy5mav4HeFUxaDMZ",
      "include_colab_link": true
    },
    "kernelspec": {
      "name": "python3",
      "display_name": "Python 3"
    }
  },
  "cells": [
    {
      "cell_type": "markdown",
      "metadata": {
        "id": "view-in-github",
        "colab_type": "text"
      },
      "source": [
        "<a href=\"https://colab.research.google.com/github/UDDSI/COVID19hackathon/blob/master/projects/SupportTrack/how_to_geocode_addresse.ipynb\" target=\"_parent\"><img src=\"https://colab.research.google.com/assets/colab-badge.svg\" alt=\"Open In Colab\"/></a>"
      ]
    },
    {
      "cell_type": "markdown",
      "metadata": {
        "id": "cKQn8q_1RziR",
        "colab_type": "text"
      },
      "source": [
        "# author: Federica Bianco (@fedhere)\n",
        "\n",
        "geocoding example\n"
      ]
    },
    {
      "cell_type": "code",
      "metadata": {
        "id": "SPfP6J8xLQ1R",
        "colab_type": "code",
        "colab": {
          "base_uri": "https://localhost:8080/",
          "height": 306
        },
        "outputId": "ff13e0cf-e611-4376-9a30-014ddab70367"
      },
      "source": [
        "# read in some data\n",
        "import pandas as pd\n",
        "import numpy as np\n",
        "exampledata = pd.read_csv(\"https://raw.githubusercontent.com/UDDSI/COVID19hackathon/master/projects/SupportTrack/testaddresses.csv\")\n",
        "exampledata"
      ],
      "execution_count": 34,
      "outputs": [
        {
          "output_type": "execute_result",
          "data": {
            "text/html": [
              "<div>\n",
              "<style scoped>\n",
              "    .dataframe tbody tr th:only-of-type {\n",
              "        vertical-align: middle;\n",
              "    }\n",
              "\n",
              "    .dataframe tbody tr th {\n",
              "        vertical-align: top;\n",
              "    }\n",
              "\n",
              "    .dataframe thead th {\n",
              "        text-align: right;\n",
              "    }\n",
              "</style>\n",
              "<table border=\"1\" class=\"dataframe\">\n",
              "  <thead>\n",
              "    <tr style=\"text-align: right;\">\n",
              "      <th></th>\n",
              "      <th>Unnamed: 0</th>\n",
              "      <th>Meeting Name</th>\n",
              "      <th>Location</th>\n",
              "    </tr>\n",
              "  </thead>\n",
              "  <tbody>\n",
              "    <tr>\n",
              "      <th>0</th>\n",
              "      <td>1</td>\n",
              "      <td>Serenity at Sunrise</td>\n",
              "      <td>St Thomas Episcopal Church</td>\n",
              "    </tr>\n",
              "    <tr>\n",
              "      <th>1</th>\n",
              "      <td>2</td>\n",
              "      <td>Pioneer Group</td>\n",
              "      <td>St. Andrew's Church</td>\n",
              "    </tr>\n",
              "    <tr>\n",
              "      <th>2</th>\n",
              "      <td>3</td>\n",
              "      <td>Dawn Patrol</td>\n",
              "      <td>Westminster House - First Presbyterian Church</td>\n",
              "    </tr>\n",
              "    <tr>\n",
              "      <th>3</th>\n",
              "      <td>4</td>\n",
              "      <td>Early Risers</td>\n",
              "      <td>Trinity Episcopal Parish</td>\n",
              "    </tr>\n",
              "    <tr>\n",
              "      <th>4</th>\n",
              "      <td>5</td>\n",
              "      <td>Sunrise</td>\n",
              "      <td>Twelve and Twelve Club</td>\n",
              "    </tr>\n",
              "    <tr>\n",
              "      <th>5</th>\n",
              "      <td>6</td>\n",
              "      <td>Eye Opener</td>\n",
              "      <td>Red Clay Creek Presbyterian Churchi</td>\n",
              "    </tr>\n",
              "    <tr>\n",
              "      <th>6</th>\n",
              "      <td>7</td>\n",
              "      <td>New Day</td>\n",
              "      <td>St Nicholas Episcopal Church</td>\n",
              "    </tr>\n",
              "    <tr>\n",
              "      <th>7</th>\n",
              "      <td>8</td>\n",
              "      <td>Midday Miracles</td>\n",
              "      <td>First Baptist Church Of Kennett Square</td>\n",
              "    </tr>\n",
              "    <tr>\n",
              "      <th>8</th>\n",
              "      <td>9</td>\n",
              "      <td>First Stop Friday</td>\n",
              "      <td>Tower Hill Schooli</td>\n",
              "    </tr>\n",
              "  </tbody>\n",
              "</table>\n",
              "</div>"
            ],
            "text/plain": [
              "   Unnamed: 0  ...                                       Location\n",
              "0           1  ...                     St Thomas Episcopal Church\n",
              "1           2  ...                            St. Andrew's Church\n",
              "2           3  ...  Westminster House - First Presbyterian Church\n",
              "3           4  ...                       Trinity Episcopal Parish\n",
              "4           5  ...                         Twelve and Twelve Club\n",
              "5           6  ...            Red Clay Creek Presbyterian Churchi\n",
              "6           7  ...                   St Nicholas Episcopal Church\n",
              "7           8  ...         First Baptist Church Of Kennett Square\n",
              "8           9  ...                             Tower Hill Schooli\n",
              "\n",
              "[9 rows x 3 columns]"
            ]
          },
          "metadata": {
            "tags": []
          },
          "execution_count": 34
        }
      ]
    },
    {
      "cell_type": "code",
      "metadata": {
        "id": "xLvcKYb7Af8w",
        "colab_type": "code",
        "outputId": "78c3c48a-2726-4829-932a-036fefe6b55e",
        "colab": {
          "base_uri": "https://localhost:8080/",
          "height": 358
        }
      },
      "source": [
        "#install and runn geopy for geocoding: does not require an api key\n",
        "!pip install geopy\n",
        "import geopy\n",
        "from geopy.geocoders import Nominatim\n",
        "from geopy.extra.rate_limiter import RateLimiter \n",
        "\n",
        "#locator is a function with a defined what software you want to use\n",
        "locator = Nominatim(user_agent='myGeocoder')\n",
        "# this is the workhorse: the function you will pass to the dataframe series (column) to convert it\n",
        "geocode = RateLimiter(locator.geocode, min_delay_seconds=0.5)\n",
        "#location is the address, but it only includes the street or some vague location, we should add at least the state: DE\n",
        "#because its a string we can just sum it to the other string \",DE\"\n",
        "exampledata[\"Location\"] = exampledata[\"Location\"] + \",DE\"\n",
        "# the apply the geocode to that modified location, this geocode contains proper address and coordinates\n",
        "exampledata[\"geocodedloc\"] = exampledata[\"Location\"].apply(geocode)\n",
        "exampledata"
      ],
      "execution_count": 35,
      "outputs": [
        {
          "output_type": "stream",
          "text": [
            "Requirement already satisfied: geopy in /usr/local/lib/python3.6/dist-packages (1.17.0)\n",
            "Requirement already satisfied: geographiclib<2,>=1.49 in /usr/local/lib/python3.6/dist-packages (from geopy) (1.50)\n"
          ],
          "name": "stdout"
        },
        {
          "output_type": "execute_result",
          "data": {
            "text/html": [
              "<div>\n",
              "<style scoped>\n",
              "    .dataframe tbody tr th:only-of-type {\n",
              "        vertical-align: middle;\n",
              "    }\n",
              "\n",
              "    .dataframe tbody tr th {\n",
              "        vertical-align: top;\n",
              "    }\n",
              "\n",
              "    .dataframe thead th {\n",
              "        text-align: right;\n",
              "    }\n",
              "</style>\n",
              "<table border=\"1\" class=\"dataframe\">\n",
              "  <thead>\n",
              "    <tr style=\"text-align: right;\">\n",
              "      <th></th>\n",
              "      <th>Unnamed: 0</th>\n",
              "      <th>Meeting Name</th>\n",
              "      <th>Location</th>\n",
              "      <th>geocodedloc</th>\n",
              "    </tr>\n",
              "  </thead>\n",
              "  <tbody>\n",
              "    <tr>\n",
              "      <th>0</th>\n",
              "      <td>1</td>\n",
              "      <td>Serenity at Sunrise</td>\n",
              "      <td>St Thomas Episcopal Church,DE</td>\n",
              "      <td>(Saint Thomas Episcopal Church, Sky Manor Road...</td>\n",
              "    </tr>\n",
              "    <tr>\n",
              "      <th>1</th>\n",
              "      <td>2</td>\n",
              "      <td>Pioneer Group</td>\n",
              "      <td>St. Andrew's Church,DE</td>\n",
              "      <td>(St. Andrew's Church, Whannels Road, Ward 61, ...</td>\n",
              "    </tr>\n",
              "    <tr>\n",
              "      <th>2</th>\n",
              "      <td>3</td>\n",
              "      <td>Dawn Patrol</td>\n",
              "      <td>Westminster House - First Presbyterian Church,DE</td>\n",
              "      <td>(First Presbyterian Church, Cedarwood Street, ...</td>\n",
              "    </tr>\n",
              "    <tr>\n",
              "      <th>3</th>\n",
              "      <td>4</td>\n",
              "      <td>Early Risers</td>\n",
              "      <td>Trinity Episcopal Parish,DE</td>\n",
              "      <td>(Trinity Episcopal Parish, Kimball Avenue, Ora...</td>\n",
              "    </tr>\n",
              "    <tr>\n",
              "      <th>4</th>\n",
              "      <td>5</td>\n",
              "      <td>Sunrise</td>\n",
              "      <td>Twelve and Twelve Club,DE</td>\n",
              "      <td>(Twelve  Twelve, Laurel Street, The Gulch West...</td>\n",
              "    </tr>\n",
              "    <tr>\n",
              "      <th>5</th>\n",
              "      <td>6</td>\n",
              "      <td>Eye Opener</td>\n",
              "      <td>Red Clay Creek Presbyterian Churchi,DE</td>\n",
              "      <td>None</td>\n",
              "    </tr>\n",
              "    <tr>\n",
              "      <th>6</th>\n",
              "      <td>7</td>\n",
              "      <td>New Day</td>\n",
              "      <td>St Nicholas Episcopal Church,DE</td>\n",
              "      <td>(Saint Nicholas Episcopal Church, Mayflower Dr...</td>\n",
              "    </tr>\n",
              "    <tr>\n",
              "      <th>7</th>\n",
              "      <td>8</td>\n",
              "      <td>Midday Miracles</td>\n",
              "      <td>First Baptist Church Of Kennett Square,DE</td>\n",
              "      <td>(First Baptist Church of Kennett Square, West ...</td>\n",
              "    </tr>\n",
              "    <tr>\n",
              "      <th>8</th>\n",
              "      <td>9</td>\n",
              "      <td>First Stop Friday</td>\n",
              "      <td>Tower Hill Schooli,DE</td>\n",
              "      <td>None</td>\n",
              "    </tr>\n",
              "  </tbody>\n",
              "</table>\n",
              "</div>"
            ],
            "text/plain": [
              "   Unnamed: 0  ...                                        geocodedloc\n",
              "0           1  ...  (Saint Thomas Episcopal Church, Sky Manor Road...\n",
              "1           2  ...  (St. Andrew's Church, Whannels Road, Ward 61, ...\n",
              "2           3  ...  (First Presbyterian Church, Cedarwood Street, ...\n",
              "3           4  ...  (Trinity Episcopal Parish, Kimball Avenue, Ora...\n",
              "4           5  ...  (Twelve  Twelve, Laurel Street, The Gulch West...\n",
              "5           6  ...                                               None\n",
              "6           7  ...  (Saint Nicholas Episcopal Church, Mayflower Dr...\n",
              "7           8  ...  (First Baptist Church of Kennett Square, West ...\n",
              "8           9  ...                                               None\n",
              "\n",
              "[9 rows x 4 columns]"
            ]
          },
          "metadata": {
            "tags": []
          },
          "execution_count": 35
        }
      ]
    },
    {
      "cell_type": "code",
      "metadata": {
        "id": "L-E3P2XRKL72",
        "colab_type": "code",
        "colab": {
          "base_uri": "https://localhost:8080/",
          "height": 53
        },
        "outputId": "8c8f7958-6675-4164-cdf3-ef7f88de254a"
      },
      "source": [
        "# each new entry of the df is a Location object\n",
        "exampledata[\"geocodedloc\"][0]"
      ],
      "execution_count": 36,
      "outputs": [
        {
          "output_type": "execute_result",
          "data": {
            "text/plain": [
              "Location(Saint Thomas Episcopal Church, Sky Manor Road, Alvater Corner, Franklin Township, Hunterdon County, New Jersey, 08867, United States of America, (40.5606581, -74.9890584, 0.0))"
            ]
          },
          "metadata": {
            "tags": []
          },
          "execution_count": 36
        }
      ]
    },
    {
      "cell_type": "code",
      "metadata": {
        "id": "VFYP9OV_kBc3",
        "colab_type": "code",
        "outputId": "f70b137f-7e94-4e11-ef02-9204cfa4fd81",
        "colab": {
          "base_uri": "https://localhost:8080/",
          "height": 53
        }
      },
      "source": [
        "# the first piece of the location object is the address\n",
        "exampledata[\"geocodedloc\"][0][0]"
      ],
      "execution_count": 37,
      "outputs": [
        {
          "output_type": "execute_result",
          "data": {
            "text/plain": [
              "'Saint Thomas Episcopal Church, Sky Manor Road, Alvater Corner, Franklin Township, Hunterdon County, New Jersey, 08867, United States of America'"
            ]
          },
          "metadata": {
            "tags": []
          },
          "execution_count": 37
        }
      ]
    },
    {
      "cell_type": "code",
      "metadata": {
        "id": "mEmGS28rj4p4",
        "colab_type": "code",
        "colab": {
          "base_uri": "https://localhost:8080/",
          "height": 33
        },
        "outputId": "bb4e6637-cef1-448e-a5f8-93dc4afd9379"
      },
      "source": [
        "# the second piece of the location object is the address\n",
        "exampledata[\"geocodedloc\"][0][1]"
      ],
      "execution_count": 38,
      "outputs": [
        {
          "output_type": "execute_result",
          "data": {
            "text/plain": [
              "(40.5606581, -74.9890584)"
            ]
          },
          "metadata": {
            "tags": []
          },
          "execution_count": 38
        }
      ]
    },
    {
      "cell_type": "code",
      "metadata": {
        "id": "baaL8WzXCJsP",
        "colab_type": "code",
        "outputId": "4a8a1d98-dafb-4b34-8a4a-ba4ae3d16f1e",
        "colab": {
          "base_uri": "https://localhost:8080/",
          "height": 272
        }
      },
      "source": [
        "# save the coordinates in a new dataframe column\n",
        "# the first piece of the location object is the address\n",
        "exampledata[\"coords\"] = [l[1] for l in exampledata[\"geocodedloc\"]]\n"
      ],
      "execution_count": 39,
      "outputs": [
        {
          "output_type": "error",
          "ename": "TypeError",
          "evalue": "ignored",
          "traceback": [
            "\u001b[0;31m---------------------------------------------------------------------------\u001b[0m",
            "\u001b[0;31mTypeError\u001b[0m                                 Traceback (most recent call last)",
            "\u001b[0;32m<ipython-input-39-37cd8510a94d>\u001b[0m in \u001b[0;36m<module>\u001b[0;34m()\u001b[0m\n\u001b[1;32m      1\u001b[0m \u001b[0;31m# save the coordinates in a new dataframe column\u001b[0m\u001b[0;34m\u001b[0m\u001b[0;34m\u001b[0m\u001b[0;34m\u001b[0m\u001b[0m\n\u001b[1;32m      2\u001b[0m \u001b[0;31m# the first piece of the location object is the address\u001b[0m\u001b[0;34m\u001b[0m\u001b[0;34m\u001b[0m\u001b[0;34m\u001b[0m\u001b[0m\n\u001b[0;32m----> 3\u001b[0;31m \u001b[0mexampledata\u001b[0m\u001b[0;34m[\u001b[0m\u001b[0;34m\"coords\"\u001b[0m\u001b[0;34m]\u001b[0m \u001b[0;34m=\u001b[0m \u001b[0;34m[\u001b[0m\u001b[0ml\u001b[0m\u001b[0;34m[\u001b[0m\u001b[0;36m1\u001b[0m\u001b[0;34m]\u001b[0m \u001b[0;32mfor\u001b[0m \u001b[0ml\u001b[0m \u001b[0;32min\u001b[0m \u001b[0mexampledata\u001b[0m\u001b[0;34m[\u001b[0m\u001b[0;34m\"geocodedloc\"\u001b[0m\u001b[0;34m]\u001b[0m\u001b[0;34m]\u001b[0m\u001b[0;34m\u001b[0m\u001b[0;34m\u001b[0m\u001b[0m\n\u001b[0m",
            "\u001b[0;32m<ipython-input-39-37cd8510a94d>\u001b[0m in \u001b[0;36m<listcomp>\u001b[0;34m(.0)\u001b[0m\n\u001b[1;32m      1\u001b[0m \u001b[0;31m# save the coordinates in a new dataframe column\u001b[0m\u001b[0;34m\u001b[0m\u001b[0;34m\u001b[0m\u001b[0;34m\u001b[0m\u001b[0m\n\u001b[1;32m      2\u001b[0m \u001b[0;31m# the first piece of the location object is the address\u001b[0m\u001b[0;34m\u001b[0m\u001b[0;34m\u001b[0m\u001b[0;34m\u001b[0m\u001b[0m\n\u001b[0;32m----> 3\u001b[0;31m \u001b[0mexampledata\u001b[0m\u001b[0;34m[\u001b[0m\u001b[0;34m\"coords\"\u001b[0m\u001b[0;34m]\u001b[0m \u001b[0;34m=\u001b[0m \u001b[0;34m[\u001b[0m\u001b[0ml\u001b[0m\u001b[0;34m[\u001b[0m\u001b[0;36m1\u001b[0m\u001b[0;34m]\u001b[0m \u001b[0;32mfor\u001b[0m \u001b[0ml\u001b[0m \u001b[0;32min\u001b[0m \u001b[0mexampledata\u001b[0m\u001b[0;34m[\u001b[0m\u001b[0;34m\"geocodedloc\"\u001b[0m\u001b[0;34m]\u001b[0m\u001b[0;34m]\u001b[0m\u001b[0;34m\u001b[0m\u001b[0;34m\u001b[0m\u001b[0m\n\u001b[0m",
            "\u001b[0;31mTypeError\u001b[0m: 'NoneType' object is not subscriptable"
          ]
        }
      ]
    },
    {
      "cell_type": "code",
      "metadata": {
        "id": "l_NKwk6ACzPr",
        "colab_type": "code",
        "colab": {}
      },
      "source": [
        "#this throws an error because one of the locations was not geocoded: the last row has None at the location place\n",
        "exampledata[\"coords\"] = [l[1] if not l is None else (np.nan, np.nan) for l in exampledata[\"geocodedloc\"]] "
      ],
      "execution_count": 0,
      "outputs": []
    },
    {
      "cell_type": "code",
      "metadata": {
        "id": "NoVTySZZDtna",
        "colab_type": "code",
        "outputId": "3572dbc5-3315-4fd9-9a32-a31dd068d497",
        "colab": {
          "base_uri": "https://localhost:8080/",
          "height": 468
        }
      },
      "source": [
        "exampledata\n"
      ],
      "execution_count": 41,
      "outputs": [
        {
          "output_type": "execute_result",
          "data": {
            "text/html": [
              "<div>\n",
              "<style scoped>\n",
              "    .dataframe tbody tr th:only-of-type {\n",
              "        vertical-align: middle;\n",
              "    }\n",
              "\n",
              "    .dataframe tbody tr th {\n",
              "        vertical-align: top;\n",
              "    }\n",
              "\n",
              "    .dataframe thead th {\n",
              "        text-align: right;\n",
              "    }\n",
              "</style>\n",
              "<table border=\"1\" class=\"dataframe\">\n",
              "  <thead>\n",
              "    <tr style=\"text-align: right;\">\n",
              "      <th></th>\n",
              "      <th>Unnamed: 0</th>\n",
              "      <th>Meeting Name</th>\n",
              "      <th>Location</th>\n",
              "      <th>geocodedloc</th>\n",
              "      <th>coords</th>\n",
              "    </tr>\n",
              "  </thead>\n",
              "  <tbody>\n",
              "    <tr>\n",
              "      <th>0</th>\n",
              "      <td>1</td>\n",
              "      <td>Serenity at Sunrise</td>\n",
              "      <td>St Thomas Episcopal Church,DE</td>\n",
              "      <td>(Saint Thomas Episcopal Church, Sky Manor Road...</td>\n",
              "      <td>(40.5606581, -74.9890584)</td>\n",
              "    </tr>\n",
              "    <tr>\n",
              "      <th>1</th>\n",
              "      <td>2</td>\n",
              "      <td>Pioneer Group</td>\n",
              "      <td>St. Andrew's Church,DE</td>\n",
              "      <td>(St. Andrew's Church, Whannels Road, Ward 61, ...</td>\n",
              "      <td>(13.079534500000001, 80.2640593976282)</td>\n",
              "    </tr>\n",
              "    <tr>\n",
              "      <th>2</th>\n",
              "      <td>3</td>\n",
              "      <td>Dawn Patrol</td>\n",
              "      <td>Westminster House - First Presbyterian Church,DE</td>\n",
              "      <td>(First Presbyterian Church, Cedarwood Street, ...</td>\n",
              "      <td>(33.7586111, -117.9944444)</td>\n",
              "    </tr>\n",
              "    <tr>\n",
              "      <th>3</th>\n",
              "      <td>4</td>\n",
              "      <td>Early Risers</td>\n",
              "      <td>Trinity Episcopal Parish,DE</td>\n",
              "      <td>(Trinity Episcopal Parish, Kimball Avenue, Ora...</td>\n",
              "      <td>(42.4508435, -92.3556745)</td>\n",
              "    </tr>\n",
              "    <tr>\n",
              "      <th>4</th>\n",
              "      <td>5</td>\n",
              "      <td>Sunrise</td>\n",
              "      <td>Twelve and Twelve Club,DE</td>\n",
              "      <td>(Twelve  Twelve, Laurel Street, The Gulch West...</td>\n",
              "      <td>(36.15361185, -86.78633588189373)</td>\n",
              "    </tr>\n",
              "    <tr>\n",
              "      <th>5</th>\n",
              "      <td>6</td>\n",
              "      <td>Eye Opener</td>\n",
              "      <td>Red Clay Creek Presbyterian Churchi,DE</td>\n",
              "      <td>None</td>\n",
              "      <td>(nan, nan)</td>\n",
              "    </tr>\n",
              "    <tr>\n",
              "      <th>6</th>\n",
              "      <td>7</td>\n",
              "      <td>New Day</td>\n",
              "      <td>St Nicholas Episcopal Church,DE</td>\n",
              "      <td>(Saint Nicholas Episcopal Church, Mayflower Dr...</td>\n",
              "      <td>(43.5523059, -70.3731052)</td>\n",
              "    </tr>\n",
              "    <tr>\n",
              "      <th>7</th>\n",
              "      <td>8</td>\n",
              "      <td>Midday Miracles</td>\n",
              "      <td>First Baptist Church Of Kennett Square,DE</td>\n",
              "      <td>(First Baptist Church of Kennett Square, West ...</td>\n",
              "      <td>(39.8463314, -75.71653844057379)</td>\n",
              "    </tr>\n",
              "    <tr>\n",
              "      <th>8</th>\n",
              "      <td>9</td>\n",
              "      <td>First Stop Friday</td>\n",
              "      <td>Tower Hill Schooli,DE</td>\n",
              "      <td>None</td>\n",
              "      <td>(nan, nan)</td>\n",
              "    </tr>\n",
              "  </tbody>\n",
              "</table>\n",
              "</div>"
            ],
            "text/plain": [
              "   Unnamed: 0  ...                                  coords\n",
              "0           1  ...               (40.5606581, -74.9890584)\n",
              "1           2  ...  (13.079534500000001, 80.2640593976282)\n",
              "2           3  ...              (33.7586111, -117.9944444)\n",
              "3           4  ...               (42.4508435, -92.3556745)\n",
              "4           5  ...       (36.15361185, -86.78633588189373)\n",
              "5           6  ...                              (nan, nan)\n",
              "6           7  ...               (43.5523059, -70.3731052)\n",
              "7           8  ...        (39.8463314, -75.71653844057379)\n",
              "8           9  ...                              (nan, nan)\n",
              "\n",
              "[9 rows x 5 columns]"
            ]
          },
          "metadata": {
            "tags": []
          },
          "execution_count": 41
        }
      ]
    },
    {
      "cell_type": "markdown",
      "metadata": {
        "id": "BfC42d8yPiym",
        "colab_type": "text"
      },
      "source": [
        "this is a particularly bad result, only 2 addesses are probably right, that is because the addresses were very vague at the beginning. but it still demonstrated the concept and also the perils of it!"
      ]
    },
    {
      "cell_type": "code",
      "metadata": {
        "id": "ZVTXlh4qQyz-",
        "colab_type": "code",
        "colab": {}
      },
      "source": [
        ""
      ],
      "execution_count": 0,
      "outputs": []
    }
  ]
}